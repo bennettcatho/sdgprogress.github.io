{
 "cells": [
  {
   "cell_type": "code",
   "execution_count": null,
   "metadata": {},
   "outputs": [],
   "source": [
    "import torch\n",
    "from torch.utils.data import Dataset, DataLoader\n",
    "import pandas as pd\n",
    "import numpy as np\n",
    "\n",
    "class SDGDataset(Dataset):\n",
    "    def __init__(self, data, seq_length=10, impute_missing=False):\n",
    "        \"\"\"\n",
    "        Args:\n",
    "        - data: Pandas DataFrame with columns [id, country, year, yearly_score, goal1, goal2, ..., goal17].\n",
    "        - seq_length: Number of years used as input history.\n",
    "        - impute_missing: Boolean to impute missing values with forward fill. If False, rows with missing values are dropped.\n",
    "        \"\"\"\n",
    "        self.data = data\n",
    "        self.seq_length = seq_length\n",
    "        self.impute_missing = impute_missing\n",
    "        self.country_dict = {c: i for i, c in enumerate(data[\"country\"].unique())}\n",
    "        self.sdg_columns = [f'goal{i}' for i in range(1, 18)]  # goal1, goal2, ..., goal17\n",
    "        \n",
    "        # Drop rows with missing values if impute_missing is False\n",
    "        if not self.impute_missing:\n",
    "            self.data = self.data.dropna(subset=self.sdg_columns)\n",
    "        \n",
    "        self.samples = []\n",
    "        self.prepare_data()\n",
    "\n",
    "    def prepare_data(self):\n",
    "        # Group by country to create sequences for each SDG goal\n",
    "        grouped = self.data.groupby([\"country\"])\n",
    "        \n",
    "        for country, group in grouped:\n",
    "            group = group.sort_values(by=\"year\")  # Sort by year\n",
    "            \n",
    "            for sdg in self.sdg_columns:\n",
    "                values = group[sdg].values\n",
    "                for i in range(len(values) - self.seq_length):\n",
    "                    hist = values[i : i + self.seq_length]\n",
    "                    target = values[i + self.seq_length]\n",
    "                    self.samples.append(\n",
    "                        (\n",
    "                            self.country_dict[country],  # Now, country is directly accessed\n",
    "                            self.sdg_columns.index(sdg),\n",
    "                            hist,\n",
    "                            target,\n",
    "                        )\n",
    "                    )\n",
    "\n",
    "    def __len__(self):\n",
    "        return len(self.samples)\n",
    "\n",
    "    def __getitem__(self, idx):\n",
    "        country, sdg, history, target = self.samples[idx]\n",
    "        return (\n",
    "            torch.tensor(country, dtype=torch.long),\n",
    "            torch.tensor(sdg, dtype=torch.long),\n",
    "            torch.tensor(history, dtype=torch.float32),\n",
    "            torch.tensor(target, dtype=torch.float32),\n",
    "        )\n",
    "\n",
    "\n",
    "# Create dataset & DataLoader\n",
    "def create_dataloader(data, batch_size=32, seq_length=10, impute_missing=False):\n",
    "    dataset = SDGDataset(data, seq_length=seq_length, impute_missing=impute_missing)\n",
    "    return DataLoader(dataset, batch_size=batch_size, shuffle=True)\n",
    "\n",
    "def estimate_sdg_completion(model, country, sdg, history):\n",
    "    year = 2023\n",
    "    while True:\n",
    "        pred = model(country, sdg, history)\n",
    "        if pred.item() >= 1.0:  # 100% normalized\n",
    "            return year\n",
    "        history = torch.cat((history[:, 1:, :], pred.unsqueeze(1)), dim=1)\n",
    "        year += 1\n",
    "        if year > 2100:  # Stop if unrealistic\n",
    "            return \"Not achievable by 2100\"\n"
   ]
  },
  {
   "cell_type": "code",
   "execution_count": 16,
   "metadata": {},
   "outputs": [
    {
     "ename": "KeyError",
     "evalue": "('Albania',)",
     "output_type": "error",
     "traceback": [
      "\u001b[0;31m---------------------------------------------------------------------------\u001b[0m",
      "\u001b[0;31mKeyError\u001b[0m                                  Traceback (most recent call last)",
      "Cell \u001b[0;32mIn[16], line 3\u001b[0m\n\u001b[1;32m      1\u001b[0m \u001b[38;5;28;01mimport\u001b[39;00m \u001b[38;5;21;01mpandas\u001b[39;00m \u001b[38;5;28;01mas\u001b[39;00m \u001b[38;5;21;01mpd\u001b[39;00m\n\u001b[1;32m      2\u001b[0m df \u001b[38;5;241m=\u001b[39m pd\u001b[38;5;241m.\u001b[39mread_csv(\u001b[38;5;124m\"\u001b[39m\u001b[38;5;124m../../data/data-ml.csv\u001b[39m\u001b[38;5;124m\"\u001b[39m)\n\u001b[0;32m----> 3\u001b[0m train_loader \u001b[38;5;241m=\u001b[39m \u001b[43mcreate_dataloader\u001b[49m\u001b[43m(\u001b[49m\u001b[43mdf\u001b[49m\u001b[43m,\u001b[49m\u001b[43m \u001b[49m\u001b[43mbatch_size\u001b[49m\u001b[38;5;241;43m=\u001b[39;49m\u001b[38;5;241;43m64\u001b[39;49m\u001b[43m,\u001b[49m\u001b[43m \u001b[49m\u001b[43mseq_length\u001b[49m\u001b[38;5;241;43m=\u001b[39;49m\u001b[38;5;241;43m10\u001b[39;49m\u001b[43m)\u001b[49m\n",
      "Cell \u001b[0;32mIn[15], line 63\u001b[0m, in \u001b[0;36mcreate_dataloader\u001b[0;34m(data, batch_size, seq_length, impute_missing)\u001b[0m\n\u001b[1;32m     62\u001b[0m \u001b[38;5;28;01mdef\u001b[39;00m \u001b[38;5;21mcreate_dataloader\u001b[39m(data, batch_size\u001b[38;5;241m=\u001b[39m\u001b[38;5;241m32\u001b[39m, seq_length\u001b[38;5;241m=\u001b[39m\u001b[38;5;241m10\u001b[39m, impute_missing\u001b[38;5;241m=\u001b[39m\u001b[38;5;28;01mFalse\u001b[39;00m):\n\u001b[0;32m---> 63\u001b[0m     dataset \u001b[38;5;241m=\u001b[39m \u001b[43mSDGDataset\u001b[49m\u001b[43m(\u001b[49m\u001b[43mdata\u001b[49m\u001b[43m,\u001b[49m\u001b[43m \u001b[49m\u001b[43mseq_length\u001b[49m\u001b[38;5;241;43m=\u001b[39;49m\u001b[43mseq_length\u001b[49m\u001b[43m,\u001b[49m\u001b[43m \u001b[49m\u001b[43mimpute_missing\u001b[49m\u001b[38;5;241;43m=\u001b[39;49m\u001b[43mimpute_missing\u001b[49m\u001b[43m)\u001b[49m\n\u001b[1;32m     64\u001b[0m     \u001b[38;5;28;01mreturn\u001b[39;00m DataLoader(dataset, batch_size\u001b[38;5;241m=\u001b[39mbatch_size, shuffle\u001b[38;5;241m=\u001b[39m\u001b[38;5;28;01mTrue\u001b[39;00m)\n",
      "Cell \u001b[0;32mIn[15], line 25\u001b[0m, in \u001b[0;36mSDGDataset.__init__\u001b[0;34m(self, data, seq_length, impute_missing)\u001b[0m\n\u001b[1;32m     22\u001b[0m     \u001b[38;5;28mself\u001b[39m\u001b[38;5;241m.\u001b[39mdata \u001b[38;5;241m=\u001b[39m \u001b[38;5;28mself\u001b[39m\u001b[38;5;241m.\u001b[39mdata\u001b[38;5;241m.\u001b[39mdropna(subset\u001b[38;5;241m=\u001b[39m\u001b[38;5;28mself\u001b[39m\u001b[38;5;241m.\u001b[39msdg_columns)\n\u001b[1;32m     24\u001b[0m \u001b[38;5;28mself\u001b[39m\u001b[38;5;241m.\u001b[39msamples \u001b[38;5;241m=\u001b[39m []\n\u001b[0;32m---> 25\u001b[0m \u001b[38;5;28;43mself\u001b[39;49m\u001b[38;5;241;43m.\u001b[39;49m\u001b[43mprepare_data\u001b[49m\u001b[43m(\u001b[49m\u001b[43m)\u001b[49m\n",
      "Cell \u001b[0;32mIn[15], line 41\u001b[0m, in \u001b[0;36mSDGDataset.prepare_data\u001b[0;34m(self)\u001b[0m\n\u001b[1;32m     37\u001b[0m hist \u001b[38;5;241m=\u001b[39m values[i : i \u001b[38;5;241m+\u001b[39m \u001b[38;5;28mself\u001b[39m\u001b[38;5;241m.\u001b[39mseq_length]\n\u001b[1;32m     38\u001b[0m target \u001b[38;5;241m=\u001b[39m values[i \u001b[38;5;241m+\u001b[39m \u001b[38;5;28mself\u001b[39m\u001b[38;5;241m.\u001b[39mseq_length]\n\u001b[1;32m     39\u001b[0m \u001b[38;5;28mself\u001b[39m\u001b[38;5;241m.\u001b[39msamples\u001b[38;5;241m.\u001b[39mappend(\n\u001b[1;32m     40\u001b[0m     (\n\u001b[0;32m---> 41\u001b[0m         \u001b[38;5;28;43mself\u001b[39;49m\u001b[38;5;241;43m.\u001b[39;49m\u001b[43mcountry_dict\u001b[49m\u001b[43m[\u001b[49m\u001b[43mcountry\u001b[49m\u001b[43m]\u001b[49m,  \u001b[38;5;66;03m# Now, country is directly accessed\u001b[39;00m\n\u001b[1;32m     42\u001b[0m         \u001b[38;5;28mself\u001b[39m\u001b[38;5;241m.\u001b[39msdg_columns\u001b[38;5;241m.\u001b[39mindex(sdg),\n\u001b[1;32m     43\u001b[0m         hist,\n\u001b[1;32m     44\u001b[0m         target,\n\u001b[1;32m     45\u001b[0m     )\n\u001b[1;32m     46\u001b[0m )\n",
      "\u001b[0;31mKeyError\u001b[0m: ('Albania',)"
     ]
    }
   ],
   "source": [
    "import pandas as pd\n",
    "df = pd.read_csv(\"../../data/data-ml.csv\")\n",
    "train_loader = create_dataloader(df, batch_size=64, seq_length=10)\n"
   ]
  }
 ],
 "metadata": {
  "kernelspec": {
   "display_name": "Python 3",
   "language": "python",
   "name": "python3"
  },
  "language_info": {
   "codemirror_mode": {
    "name": "ipython",
    "version": 3
   },
   "file_extension": ".py",
   "mimetype": "text/x-python",
   "name": "python",
   "nbconvert_exporter": "python",
   "pygments_lexer": "ipython3",
   "version": "3.10.12"
  }
 },
 "nbformat": 4,
 "nbformat_minor": 2
}
